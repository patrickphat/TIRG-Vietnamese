{
 "cells": [
  {
   "cell_type": "code",
   "execution_count": 44,
   "metadata": {},
   "outputs": [
    {
     "name": "stdout",
     "output_type": "stream",
     "text": [
      "Requirement already satisfied: nltk in /mnt/ai_filestore/home/patrick/app/miniconda3/envs/thesis/lib/python3.6/site-packages (3.5)\n",
      "Requirement already satisfied: tqdm in /mnt/ai_filestore/home/patrick/app/miniconda3/envs/thesis/lib/python3.6/site-packages (from nltk) (4.48.2)\n",
      "Requirement already satisfied: regex in /mnt/ai_filestore/home/patrick/app/miniconda3/envs/thesis/lib/python3.6/site-packages (from nltk) (2020.7.14)\n",
      "Requirement already satisfied: joblib in /mnt/ai_filestore/home/patrick/app/miniconda3/envs/thesis/lib/python3.6/site-packages (from nltk) (0.16.0)\n",
      "Requirement already satisfied: click in /mnt/ai_filestore/home/patrick/app/miniconda3/envs/thesis/lib/python3.6/site-packages (from nltk) (7.1.2)\n",
      "Requirement already satisfied: googletrans in /mnt/ai_filestore/home/patrick/app/miniconda3/envs/thesis/lib/python3.6/site-packages (3.0.0)\n",
      "Requirement already satisfied: httpx==0.13.3 in /mnt/ai_filestore/home/patrick/app/miniconda3/envs/thesis/lib/python3.6/site-packages (from googletrans) (0.13.3)\n",
      "Requirement already satisfied: certifi in /mnt/ai_filestore/home/patrick/app/miniconda3/envs/thesis/lib/python3.6/site-packages (from httpx==0.13.3->googletrans) (2020.6.20)\n",
      "Requirement already satisfied: hstspreload in /mnt/ai_filestore/home/patrick/app/miniconda3/envs/thesis/lib/python3.6/site-packages (from httpx==0.13.3->googletrans) (2020.8.8)\n",
      "Requirement already satisfied: httpcore==0.9.* in /mnt/ai_filestore/home/patrick/app/miniconda3/envs/thesis/lib/python3.6/site-packages (from httpx==0.13.3->googletrans) (0.9.1)\n",
      "Requirement already satisfied: sniffio in /mnt/ai_filestore/home/patrick/app/miniconda3/envs/thesis/lib/python3.6/site-packages (from httpx==0.13.3->googletrans) (1.1.0)\n",
      "Requirement already satisfied: rfc3986<2,>=1.3 in /home/patrick/.local/lib/python3.6/site-packages (from httpx==0.13.3->googletrans) (1.4.0)\n",
      "Requirement already satisfied: idna==2.* in /home/patrick/.local/lib/python3.6/site-packages (from httpx==0.13.3->googletrans) (2.10)\n",
      "Requirement already satisfied: chardet==3.* in /home/patrick/.local/lib/python3.6/site-packages (from httpx==0.13.3->googletrans) (3.0.4)\n",
      "Requirement already satisfied: h11<0.10,>=0.8 in /mnt/ai_filestore/home/patrick/app/miniconda3/envs/thesis/lib/python3.6/site-packages (from httpcore==0.9.*->httpx==0.13.3->googletrans) (0.9.0)\n",
      "Requirement already satisfied: h2==3.* in /mnt/ai_filestore/home/patrick/app/miniconda3/envs/thesis/lib/python3.6/site-packages (from httpcore==0.9.*->httpx==0.13.3->googletrans) (3.2.0)\n",
      "Requirement already satisfied: contextvars>=2.1; python_version < \"3.7\" in /mnt/ai_filestore/home/patrick/app/miniconda3/envs/thesis/lib/python3.6/site-packages (from sniffio->httpx==0.13.3->googletrans) (2.4)\n",
      "Requirement already satisfied: hyperframe<6,>=5.2.0 in /mnt/ai_filestore/home/patrick/app/miniconda3/envs/thesis/lib/python3.6/site-packages (from h2==3.*->httpcore==0.9.*->httpx==0.13.3->googletrans) (5.2.0)\n",
      "Requirement already satisfied: hpack<4,>=3.0 in /mnt/ai_filestore/home/patrick/app/miniconda3/envs/thesis/lib/python3.6/site-packages (from h2==3.*->httpcore==0.9.*->httpx==0.13.3->googletrans) (3.0.0)\n",
      "Requirement already satisfied: immutables>=0.9 in /mnt/ai_filestore/home/patrick/app/miniconda3/envs/thesis/lib/python3.6/site-packages (from contextvars>=2.1; python_version < \"3.7\"->sniffio->httpx==0.13.3->googletrans) (0.14)\n"
     ]
    },
    {
     "name": "stderr",
     "output_type": "stream",
     "text": [
      "[nltk_data] Downloading package punkt to /home/patrick/nltk_data...\n",
      "[nltk_data]   Package punkt is already up-to-date!\n",
      "[nltk_data] Downloading package averaged_perceptron_tagger to\n",
      "[nltk_data]     /home/patrick/nltk_data...\n",
      "[nltk_data]   Package averaged_perceptron_tagger is already up-to-\n",
      "[nltk_data]       date!\n"
     ]
    },
    {
     "data": {
      "text/plain": [
       "True"
      ]
     },
     "execution_count": 44,
     "metadata": {},
     "output_type": "execute_result"
    }
   ],
   "source": [
    "from datasets import CSSDataset\n",
    "import matplotlib.pyplot as plt\n",
    "!pip install nltk\n",
    "!pip install googletrans\n",
    "import nltk\n",
    "nltk.download('punkt')\n",
    "nltk.download('averaged_perceptron_tagger')"
   ]
  },
  {
   "cell_type": "code",
   "execution_count": null,
   "metadata": {},
   "outputs": [],
   "source": []
  },
  {
   "cell_type": "code",
   "execution_count": 45,
   "metadata": {},
   "outputs": [],
   "source": [
    "def word_count(str):\n",
    "    counts = dict()\n",
    "    words = str.split()\n",
    "\n",
    "    for word in words:\n",
    "        if word in counts:\n",
    "            counts[word] += 1\n",
    "        else:\n",
    "            counts[word] = 1\n",
    "\n",
    "    return counts"
   ]
  },
  {
   "cell_type": "code",
   "execution_count": 46,
   "metadata": {},
   "outputs": [
    {
     "data": {
      "text/plain": [
       "['CSSDataset']"
      ]
     },
     "execution_count": 46,
     "metadata": {},
     "output_type": "execute_result"
    }
   ],
   "source": [
    "import os\n",
    "os.listdir(\"../data\")"
   ]
  },
  {
   "cell_type": "code",
   "execution_count": 47,
   "metadata": {},
   "outputs": [],
   "source": [
    "dataset = CSSDataset(\"../data/CSSDataset\")\n",
    "\n"
   ]
  },
  {
   "cell_type": "code",
   "execution_count": 48,
   "metadata": {},
   "outputs": [
    {
     "name": "stdout",
     "output_type": "stream",
     "text": [
      "add large purple object to middle-right thêm đối tượng lớn màu tím vào giữa bên phải\n"
     ]
    }
   ],
   "source": [
    "gen_mod = dataset.generate_random_query_target()[\"mod\"][\"str\"]\n",
    "\n",
    "from googletrans import Translator\n",
    "translator = Translator(service_urls=['translate.google.com.vn'])\n",
    "translations = translator.translate([gen_mod],dest=\"vi\")\n",
    "for tran in translations:\n",
    "    print(tran.origin, tran.text)"
   ]
  },
  {
   "cell_type": "code",
   "execution_count": 49,
   "metadata": {},
   "outputs": [
    {
     "data": {
      "text/plain": [
       "'add large purple object to middle-right'"
      ]
     },
     "execution_count": 49,
     "metadata": {},
     "output_type": "execute_result"
    }
   ],
   "source": [
    "gen_mod"
   ]
  },
  {
   "cell_type": "code",
   "execution_count": 50,
   "metadata": {},
   "outputs": [
    {
     "data": {
      "text/plain": [
       "{'what': 2, 'the': 1, 'fuck': 1}"
      ]
     },
     "execution_count": 50,
     "metadata": {},
     "output_type": "execute_result"
    }
   ],
   "source": [
    "word_count(\"what the what fuck\")"
   ]
  },
  {
   "cell_type": "code",
   "execution_count": 51,
   "metadata": {},
   "outputs": [],
   "source": [
    "full_str = \"\"\n",
    "full_dataset = dataset.data[\"train\"][\"mods\"] + dataset.data[\"test\"][\"mods\"]\n",
    "for mod in full_dataset:\n",
    "    full_str +=  (\" \" + mod[\"to_str\"]) "
   ]
  },
  {
   "cell_type": "code",
   "execution_count": 52,
   "metadata": {},
   "outputs": [
    {
     "data": {
      "text/plain": [
       "{'make': 8319,\n",
       " 'middle-left': 1148,\n",
       " 'large': 4545,\n",
       " 'circle': 3105,\n",
       " 'green': 1971,\n",
       " 'middle-right': 1147,\n",
       " 'rectangle': 2085,\n",
       " 'small': 4481,\n",
       " 'blue': 1970,\n",
       " 'object': 4724,\n",
       " 'add': 2074,\n",
       " 'brown': 1992,\n",
       " 'to': 1860,\n",
       " 'middle-center': 1140,\n",
       " 'top-left': 1140,\n",
       " 'top-center': 1149,\n",
       " 'remove': 1630,\n",
       " 'bottom-center': 1148,\n",
       " 'red': 1993,\n",
       " 'bottom-left': 1136,\n",
       " 'yellow': 1961,\n",
       " 'triangle': 2109,\n",
       " 'gray': 1994,\n",
       " 'purple': 1975,\n",
       " 'bottom-right': 1151,\n",
       " 'top-right': 1109,\n",
       " 'cyan': 1991}"
      ]
     },
     "execution_count": 52,
     "metadata": {},
     "output_type": "execute_result"
    }
   ],
   "source": [
    "word_count(full_str)"
   ]
  },
  {
   "cell_type": "code",
   "execution_count": 53,
   "metadata": {},
   "outputs": [],
   "source": [
    "type_to_words_map = {\n",
    "    \"VB\":[\"make\",\"add\",\"remove\"],\n",
    "#     \"<VB_add>\":[\"add\"],\n",
    "#     \"<VB_remove>\":[\"remove\"],\n",
    "    \"PP\":[\"to\"],\n",
    "    \"JJ\":[\"small\",\"large\",\"green\",\"blue\",\"brown\",\"gray\",\"purple\",\"cyan\",\"red\",\"yellow\"],\n",
    "    \"NN\":[\"circle\",\"rectangle\",\"triangle\",\"object\"],\n",
    "    \"JJ_pos\":[\"middle-left\",'middle-right','middle-center','bottom-center','bottom-left','bottom-right','top-right','top-left','top-center']\n",
    "}\n",
    "\n",
    "def sentence_format(sentence, type_to_words_map):\n",
    "    words = set(sentence.split(\" \"))            \n",
    "    sentence_list = sentence.split(\" \")\n",
    "\n",
    "    for word in words:\n",
    "        for vocab_type, list_vocabs in type_to_words_map.items():\n",
    "            if word in list_vocabs:\n",
    "                while word in sentence_list:\n",
    "                    sentence_list[sentence_list.index(word)] = vocab_type \n",
    "                \n",
    "    fmt_sentence = \" \".join(sentence_list)\n",
    "    return fmt_sentence\n",
    "\n",
    "sentence_formats = {}\n",
    "sentences = []\n",
    "demo_sentences = []\n",
    "\n",
    "for mod in full_dataset:\n",
    "    sentence = mod[\"to_str\"]\n",
    "    sentences.append(sentence)\n",
    "    formatted_sentence = sentence_format(sentence,type_to_words_map)\n",
    "\n",
    "    sentence_formats[formatted_sentence] = sentence \n",
    "    \n",
    "    \n"
   ]
  },
  {
   "cell_type": "code",
   "execution_count": 54,
   "metadata": {},
   "outputs": [
    {
     "name": "stdout",
     "output_type": "stream",
     "text": [
      "VB -> make\n",
      "VB -> add\n",
      "VB -> remove\n",
      "PP -> to\n",
      "JJ -> small\n",
      "JJ -> large\n",
      "JJ -> green\n",
      "JJ -> blue\n",
      "JJ -> brown\n",
      "JJ -> gray\n",
      "JJ -> purple\n",
      "JJ -> cyan\n",
      "JJ -> red\n",
      "JJ -> yellow\n",
      "NN -> circle\n",
      "NN -> rectangle\n",
      "NN -> triangle\n",
      "NN -> object\n",
      "JJ_pos -> middle-left\n",
      "JJ_pos -> middle-right\n",
      "JJ_pos -> middle-center\n",
      "JJ_pos -> bottom-center\n",
      "JJ_pos -> bottom-left\n",
      "JJ_pos -> bottom-right\n",
      "JJ_pos -> top-right\n",
      "JJ_pos -> top-left\n",
      "JJ_pos -> top-center\n",
      "\n"
     ]
    }
   ],
   "source": [
    "grammar_str = \"\"\n",
    "\n",
    "# Create grammar by vocab-only\n",
    "for word_type, words in type_to_words_map.items():\n",
    "    for word in words:\n",
    "        grammar_str += f\"{word_type} -> {word}\\n\"\n",
    "    \n",
    "print(grammar_str)    "
   ]
  },
  {
   "cell_type": "code",
   "execution_count": 55,
   "metadata": {},
   "outputs": [],
   "source": [
    "def move_word_in_grammar(grammar, word_to_move, word_dest_after):\n",
    "    grammar = grammar.split(\" \")\n",
    "    \n",
    "    grammar.insert(grammar.index(grammar.index(word_dest_after), grammar.pop(grammar.index(word_to_move))))\n",
    "    \n",
    "    return \" \".join(grammar)\n",
    "\n",
    "def rule_based_en_to_vi_grammar(en_grammars):\n",
    "    pass\n",
    "    \n",
    "    "
   ]
  },
  {
   "cell_type": "code",
   "execution_count": 56,
   "metadata": {},
   "outputs": [
    {
     "name": "stdout",
     "output_type": "stream",
     "text": [
      "hello\n"
     ]
    }
   ],
   "source": [
    "print(\"hello\")"
   ]
  },
  {
   "cell_type": "markdown",
   "metadata": {},
   "source": [
    "# Dịch"
   ]
  },
  {
   "cell_type": "code",
   "execution_count": 57,
   "metadata": {},
   "outputs": [],
   "source": [
    "from urbamt import Translator\n",
    "from tqdm import tqdm"
   ]
  },
  {
   "cell_type": "code",
   "execution_count": 58,
   "metadata": {},
   "outputs": [
    {
     "data": {
      "text/plain": [
       "urbamt.translator.Translator"
      ]
     },
     "execution_count": 58,
     "metadata": {},
     "output_type": "execute_result"
    }
   ],
   "source": [
    "Translator"
   ]
  },
  {
   "cell_type": "code",
   "execution_count": 59,
   "metadata": {},
   "outputs": [
    {
     "data": {
      "text/plain": [
       "{'VB JJ_pos JJ NN JJ': 'make bottom-left gray circle blue',\n",
       " 'VB JJ_pos NN JJ': 'make top-left rectangle blue',\n",
       " 'VB JJ NN JJ': 'make brown circle red',\n",
       " 'VB JJ NN': 'remove red circle',\n",
       " 'VB JJ NN PP JJ_pos': 'add red triangle to bottom-left',\n",
       " 'VB NN JJ': 'make triangle yellow',\n",
       " 'VB JJ_pos NN': 'remove middle-right circle',\n",
       " 'VB JJ_pos JJ NN': 'remove middle-center gray triangle',\n",
       " 'VB NN PP JJ_pos': 'add triangle to top-center',\n",
       " 'VB NN': 'remove circle',\n",
       " 'VB JJ JJ NN': 'remove large blue triangle',\n",
       " 'VB JJ JJ NN JJ': 'make small red circle yellow',\n",
       " 'VB JJ_pos JJ JJ NN': 'remove middle-left small cyan rectangle',\n",
       " 'VB JJ_pos JJ JJ NN JJ': 'make top-center large gray object green',\n",
       " 'VB JJ JJ NN PP JJ_pos': 'add large blue circle to middle-right'}"
      ]
     },
     "execution_count": 59,
     "metadata": {},
     "output_type": "execute_result"
    }
   ],
   "source": [
    "sentence_formats"
   ]
  },
  {
   "cell_type": "code",
   "execution_count": 60,
   "metadata": {},
   "outputs": [],
   "source": [
    "from urbamt import Translator \n",
    "\n",
    "src_grammar = \"\"\"\n",
    "            S -> VP | VP\n",
    "            NP -> JJ NP \n",
    "            NP -> NN\n",
    "            VP -> VB NP\n",
    "            VP -> VP JJ \n",
    "            VP -> VB\n",
    "            VP -> VP PP JJ \n",
    "            VB -> 'make' | 'add' | 'remove'\n",
    "            PP -> 'to'\n",
    "            JJ -> 'small' | 'large'\n",
    "            NN -> 'circle' | 'rectangle' | 'triangle' | 'object'\n",
    "            JJ -> 'green' | 'blue' | 'brown' | 'gray' | 'purple' | 'cyan' | 'red' | 'yellow'\n",
    "            JJ -> 'middle-left' | 'middle-right' | 'middle-center' | 'bottom-center' | 'bottom-left' | 'bottom-right' | 'top-right' | 'top-left' | 'top-center'\n",
    "            \"\"\"\n",
    "\n",
    "en_to_vi_dictionary = {\n",
    "            \"object\":\"khối\",\n",
    "            \"circle\":\"khối cầu\",\n",
    "            \"triangle\":\"khối trụ\",\n",
    "            \"rectangle\":\"khối hộp chữ nhật\",\n",
    "            \"make\": \"biến\",\n",
    "            \"add\":\"thêm\", \n",
    "            \"remove\":\"xóa\",\n",
    "            \"brown\":\"màu nâu\",\n",
    "            \"green\":\"màu xanh lá\",\n",
    "            \"blue\":\"màu xanh dương\",\n",
    "            \"gray\":\"màu xám\",\n",
    "            \"purple\":\"màu tím\",\n",
    "            \"cyan\":\"màu lam\",\n",
    "            \"red\":\"màu đỏ\",\n",
    "            \"yellow\":\"màu vàng\",\n",
    "            \"middle-left\":\"bên trái\",\n",
    "            \"middle-right\":\"bên phải\",\n",
    "            \"middle-center\":\"trung tâm\",\n",
    "            \"bottom-center\":\"chính giữa phía dưới\",\n",
    "            \"bottom-left\":\"góc trái phía dưới\",\n",
    "            \"bottom-right\":\"góc phải phía dưới\",\n",
    "            \"top-right\": \"góc phải phía trên\",\n",
    "            \"top-left\": \"góc trái phía trên\",\n",
    "            \"top-center\": \"chính giữa phía trên\",\n",
    "            \"small\":\"nhỏ\",\n",
    "            \"large\":\"lớn\",\n",
    "            \"to\":\"vào\"\n",
    "}\n",
    "                          \n",
    "#en_to_vi_grammar = {}#{\"NP1 -> JJ_color NP\": \"NP1 -> NP JJ_color\"}\n",
    "en_to_vi_grammar = {\"NP -> JJ NP\":\"NP -> NP JJ\",\n",
    "                    \"VP -> VP JJ\":\"VP -> VP thành JJ\"}\n",
    "\n",
    "translator = Translator(src_grammar = src_grammar,\n",
    "                        src_to_tgt_grammar = en_to_vi_grammar,\n",
    "                        src_to_tgt_dictionary = en_to_vi_dictionary)"
   ]
  },
  {
   "cell_type": "code",
   "execution_count": 61,
   "metadata": {},
   "outputs": [
    {
     "name": "stderr",
     "output_type": "stream",
     "text": [
      "6004it [00:07, 774.65it/s]\n",
      "6019it [00:10, 567.15it/s]\n"
     ]
    }
   ],
   "source": [
    "for mode in [\"train\",\"test\"]:\n",
    "    for idx, mod in tqdm(enumerate(dataset.data[mode][\"mods\"])):\n",
    "        txt = mod[\"to_str\"]\n",
    "        dataset.data[mode][\"mods\"][idx][\"to_str\"] = translator.translate(txt)[0]"
   ]
  },
  {
   "cell_type": "code",
   "execution_count": 62,
   "metadata": {},
   "outputs": [
    {
     "name": "stdout",
     "output_type": "stream",
     "text": [
      "biến khối trụ thành màu lam\n"
     ]
    },
    {
     "data": {
      "image/png": "[encoded data removed]",
      "text/plain": [
       "<Figure size 432x288 with 2 Axes>"
      ]
     },
     "metadata": {
      "needs_background": "light"
     },
     "output_type": "display_data"
    }
   ],
   "source": [
    "gen_mod = dataset.generate_random_query_target()\n",
    "gen_src_img = gen_mod[\"source_img_data\"]\n",
    "gen_tgt_img = gen_mod[\"target_img_data\"]\n",
    "mod_str = gen_mod[\"mod\"][\"str\"]\n",
    "plt.subplot(1,2,1)\n",
    "plt.imshow(gen_src_img)\n",
    "plt.subplot(1,2,2)\n",
    "plt.imshow(gen_tgt_img)\n",
    "print(mod_str)"
   ]
  },
  {
   "cell_type": "code",
   "execution_count": 63,
   "metadata": {},
   "outputs": [],
   "source": [
    "import json\n",
    "import numpy as np\n",
    "\n",
    "class NpEncoder(json.JSONEncoder):\n",
    "    def default(self, obj):\n",
    "        if isinstance(obj, np.integer):\n",
    "            return int(obj)\n",
    "        elif isinstance(obj, np.floating):\n",
    "            return float(obj)\n",
    "        elif isinstance(obj, np.ndarray):\n",
    "            return obj.tolist()\n",
    "        else:\n",
    "            return super(NpEncoder, self).default(obj)\n",
    "        \n",
    "with open(\"../data/CSSDataset/CSS-vn-vanilla-v2.json\",\"w\") as f:\n",
    "    json.dump(dataset.data,f, cls=NpEncoder)"
   ]
  },
  {
   "cell_type": "code",
   "execution_count": null,
   "metadata": {},
   "outputs": [],
   "source": []
  }
 ],
 "metadata": {
  "kernelspec": {
   "display_name": "Python 3",
   "language": "python",
   "name": "python3"
  },
  "language_info": {
   "codemirror_mode": {
    "name": "ipython",
    "version": 3
   },
   "file_extension": ".py",
   "mimetype": "text/x-python",
   "name": "python",
   "nbconvert_exporter": "python",
   "pygments_lexer": "ipython3",
   "version": "3.6.10"
  }
 },
 "nbformat": 4,
 "nbformat_minor": 4
}
