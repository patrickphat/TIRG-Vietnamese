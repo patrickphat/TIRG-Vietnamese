{
 "cells": [
  {
   "cell_type": "code",
   "execution_count": 1,
   "metadata": {},
   "outputs": [
    {
     "name": "stdout",
     "output_type": "stream",
     "text": [
      "The autoreload extension is already loaded. To reload it, use:\n",
      "  %reload_ext autoreload\n"
     ]
    }
   ],
   "source": [
    "%load_ext autoreload\n",
    "%autoreload 2\n",
    "import img_text_composition_models\n",
    "from enum import Enum\n",
    "import datasets\n",
    "import torchvision\n",
    "import torch\n",
    "from main import load_dataset, create_model_and_optimizer\n",
    "import test_retrieval\n",
    "from tqdm import tqdm\n",
    "import cv2\n",
    "from utils.FilePickling import pkl_save, pkl_load\n",
    "import numpy as np\n",
    "from test_retrieval import test"
   ]
  },
  {
   "cell_type": "code",
   "execution_count": 19,
   "metadata": {},
   "outputs": [],
   "source": [
    "class data_opt:\n",
    "    def __init__(self):\n",
    "        self.dataset=\"css3d\"\n",
    "        self.dataset_path=\"../data/CSSDataset/CSS-vn-v2-segmenter.json\"\n",
    "class model_opt:\n",
    "    def __init__(self):\n",
    "        self.dataset=\"css3d\"\n",
    "        self.dataset_path=\"../data/CSSDataset/CSS-vn-v2-segmenter.json\"\n",
    "        self.num_epochs=1000\n",
    "        self.model=\"tirg\"\n",
    "        self.loss=\"soft_triplet\"\n",
    "        self.embed_dim=512\n",
    "        self.comment=\"tirg_css-vn-v2-segmenter\" \n",
    "        self.n_epochs_validation=5\n",
    "        self.loader_num_workers= 6\n",
    "        self.learning_rate = 1e-2\n",
    "        self.weight_decay = 1e-6 \n",
    "        self.pretrained_weights = \"runs/Dec17_11-17-51_ai-servers-1tirg_css-vn-v2-segmenter/best_checkpoint.pth\"\n",
    "        self.skip_eval_trainset = True\n",
    "        self.batch_size = 32"
   ]
  },
  {
   "cell_type": "code",
   "execution_count": 28,
   "metadata": {},
   "outputs": [
    {
     "name": "stdout",
     "output_type": "stream",
     "text": [
      "Reading dataset  css3d\n",
      "trainset size: 19012\n",
      "testset size: 19057\n",
      "Creating model and optimizer for tirg\n",
      "Pretrained model from runs/Dec17_11-17-51_ai-servers-1tirg_css-vn-v2-segmenter/best_checkpoint.pth\n"
     ]
    }
   ],
   "source": [
    "trainset_base, testset_base = load_dataset(model_opt())\n",
    "texts = [t for t in trainset_base.get_all_texts()]\n",
    "\n",
    "base_model, _ = create_model_and_optimizer(model_opt(), texts)\n"
   ]
  },
  {
   "cell_type": "code",
   "execution_count": 16,
   "metadata": {},
   "outputs": [],
   "source": [
    "from test_retrieval import test"
   ]
  },
  {
   "cell_type": "code",
   "execution_count": 29,
   "metadata": {},
   "outputs": [
    {
     "name": "stderr",
     "output_type": "stream",
     "text": [
      "100%|██████████| 18057/18057 [00:52<00:00, 343.18it/s]\n",
      "100%|██████████| 19057/19057 [00:53<00:00, 356.92it/s]\n"
     ]
    }
   ],
   "source": [
    "base_model.eval()\n",
    "with torch.no_grad():\n",
    "    report, error_ids = test(model_opt(), base_model, testset_base)"
   ]
  },
  {
   "cell_type": "code",
   "execution_count": 30,
   "metadata": {},
   "outputs": [
    {
     "data": {
      "text/plain": [
       "[('recall_top1_correct_composition', 0.7512322091155784),\n",
       " ('recall_top5_correct_composition', 0.9585756216425763),\n",
       " ('recall_top10_correct_composition', 0.9789555297114693),\n",
       " ('recall_top50_correct_composition', 0.9941297003931994),\n",
       " ('recall_top100_correct_composition', 0.9965664285318713)]"
      ]
     },
     "execution_count": 30,
     "metadata": {},
     "output_type": "execute_result"
    }
   ],
   "source": [
    "report"
   ]
  },
  {
   "cell_type": "code",
   "execution_count": 24,
   "metadata": {},
   "outputs": [
    {
     "data": {
      "text/plain": [
       "tensor([0.9651, 0.9637, 0.9651,  ..., 0.9759, 0.9792, 0.9736], device='cuda:0')"
      ]
     },
     "execution_count": 24,
     "metadata": {},
     "output_type": "execute_result"
    }
   ],
   "source": [
    "base_model.state_dict()[\"res_info_composer.1.weight\"]"
   ]
  },
  {
   "cell_type": "code",
   "execution_count": null,
   "metadata": {},
   "outputs": [],
   "source": []
  }
 ],
 "metadata": {
  "kernelspec": {
   "display_name": "Python 3",
   "language": "python",
   "name": "python3"
  },
  "language_info": {
   "codemirror_mode": {
    "name": "ipython",
    "version": 3
   },
   "file_extension": ".py",
   "mimetype": "text/x-python",
   "name": "python",
   "nbconvert_exporter": "python",
   "pygments_lexer": "ipython3",
   "version": "3.6.12"
  }
 },
 "nbformat": 4,
 "nbformat_minor": 4
}
