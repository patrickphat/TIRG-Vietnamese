{
 "cells": [
  {
   "cell_type": "code",
   "execution_count": 1,
   "metadata": {},
   "outputs": [],
   "source": [
    "import json\n",
    "with open(\"../data/CSSDataset/CSS-eng.json\") as f:\n",
    "    data = json.load(f)\n",
    "    \n"
   ]
  },
  {
   "cell_type": "code",
   "execution_count": 2,
   "metadata": {},
   "outputs": [],
   "source": [
    "from urbamt import Translator \n",
    "\n",
    "src_grammar = \"\"\"\n",
    "            S -> VP | VP\n",
    "            NP -> JJ NP \n",
    "            NP -> NN\n",
    "            VP -> VB NP\n",
    "            VP -> VP JJ \n",
    "            VP -> VB\n",
    "            VP -> VP PP JJ \n",
    "            VB -> 'make' | 'add' | 'remove'\n",
    "            PP -> 'to'\n",
    "            JJ -> 'small' | 'large'\n",
    "            NN -> 'circle' | 'rectangle' | 'triangle' | 'object'\n",
    "            JJ -> 'green' | 'blue' | 'brown' | 'gray' | 'purple' | 'cyan' | 'red' | 'yellow'\n",
    "            JJ -> 'middle-left' | 'middle-right' | 'middle-center' | 'bottom-center' | 'bottom-left' | 'bottom-right' | 'top-right' | 'top-left' | 'top-center'\n",
    "            \"\"\"\n",
    "\n",
    "en_to_vi_dictionary = {\n",
    "            \"object\":\"khối\",\n",
    "            \"circle\":\"khối cầu\",\n",
    "            \"triangle\":\"khối trụ\",\n",
    "            \"rectangle\":\"khối hộp chữ_nhật\",\n",
    "            \"make\": \"biến\",\n",
    "            \"add\":\"bổ sung\", \n",
    "            \"remove\":[\"loại\",\"bỏ\"],\n",
    "            \"brown\":\"màu nâu\",\n",
    "            \"green\":\"màu xanh lá\",\n",
    "            \"blue\":\"màu xanh dương\",\n",
    "            \"gray\":\"màu xám\",\n",
    "            \"purple\":\"màu tím\",\n",
    "            \"cyan\":\"màu lam\",\n",
    "            \"red\":\"màu đỏ\",\n",
    "            \"yellow\":\"màu vàng\",\n",
    "            \"middle-left\":\"bên trái\",\n",
    "            \"middle-right\":\"bên phải\",\n",
    "            \"middle-center\":\"trung_tâm\",\n",
    "            \"bottom-center\":\"chính giữa phía dưới\",\n",
    "            \"bottom-left\":\"góc trái phía dưới\",\n",
    "            \"bottom-right\":\"góc phải phía dưới\",\n",
    "            \"top-right\": \"góc phải phía trên\",\n",
    "            \"top-left\": \"góc trái phía trên\",\n",
    "            \"top-center\": \"chính giữa phía trên\",\n",
    "            \"small\":\"bé\",\n",
    "            \"large\":\"to\",\n",
    "            \"to\":\"vào\"\n",
    "}\n",
    "                          \n",
    "#en_to_vi_grammar = {}#{\"NP1 -> JJ_color NP\": \"NP1 -> NP JJ_color\"}\n",
    "en_to_vi_grammar = {\"NP -> JJ NP\":\"NP -> NP JJ\",\n",
    "                    \"VP -> VP JJ\":\"VP -> VP thành JJ\"}\n",
    "\n",
    "translator = Translator(src_grammar = src_grammar,\n",
    "                        src_to_tgt_grammar = en_to_vi_grammar,\n",
    "\n",
    "                        src_to_tgt_dictionary = en_to_vi_dictionary)"
   ]
  },
  {
   "cell_type": "code",
   "execution_count": 3,
   "metadata": {},
   "outputs": [
    {
     "name": "stderr",
     "output_type": "stream",
     "text": [
      "6004it [00:08, 748.33it/s]\n",
      "6019it [00:07, 766.39it/s]\n"
     ]
    }
   ],
   "source": [
    "from tqdm import tqdm\n",
    "\n",
    "for mode in [\"train\",\"test\"]:\n",
    "    for idx, mod in tqdm(enumerate(data[mode][\"mods\"])):\n",
    "        txt = mod[\"to_str\"]\n",
    "        data[mode][\"mods\"][idx][\"to_str\"] = translator.translate(txt)[0]"
   ]
  },
  {
   "cell_type": "code",
   "execution_count": 4,
   "metadata": {},
   "outputs": [],
   "source": [
    "import json\n",
    "import numpy as np\n",
    "\n",
    "class NpEncoder(json.JSONEncoder):\n",
    "    def default(self, obj):\n",
    "        if isinstance(obj, np.integer):\n",
    "            return int(obj)\n",
    "        elif isinstance(obj, np.floating):\n",
    "            return float(obj)\n",
    "        elif isinstance(obj, np.ndarray):\n",
    "            return obj.tolist()\n",
    "        else:\n",
    "            return super(NpEncoder, self).default(obj)\n",
    "        \n",
    "with open(\"../data/CSSDataset/CSS-vn-augmented-v2.json\",\"w\") as f:\n",
    "    json.dump(data, f, cls=NpEncoder)"
   ]
  },
  {
   "cell_type": "code",
   "execution_count": 7,
   "metadata": {},
   "outputs": [
    {
     "ename": "KeyError",
     "evalue": "'mod'",
     "output_type": "error",
     "traceback": [
      "\u001b[0;31m----------------------------------------------------------\u001b[0m",
      "\u001b[0;31mKeyError\u001b[0m                 Traceback (most recent call last)",
      "\u001b[0;32m<ipython-input-7-acbf4e62ea1a>\u001b[0m in \u001b[0;36m<module>\u001b[0;34m\u001b[0m\n\u001b[0;32m----> 1\u001b[0;31m \u001b[0mdata\u001b[0m\u001b[0;34m[\u001b[0m\u001b[0;34m\"mod\"\u001b[0m\u001b[0;34m]\u001b[0m\u001b[0;34m[\u001b[0m\u001b[0;34m\"str\"\u001b[0m\u001b[0;34m]\u001b[0m\u001b[0;34m\u001b[0m\u001b[0;34m\u001b[0m\u001b[0m\n\u001b[0m",
      "\u001b[0;31mKeyError\u001b[0m: 'mod'"
     ]
    }
   ],
   "source": [
    "data[\"mod\"][\"str\"]"
   ]
  },
  {
   "cell_type": "code",
   "execution_count": null,
   "metadata": {},
   "outputs": [],
   "source": []
  }
 ],
 "metadata": {
  "kernelspec": {
   "display_name": "Python 3",
   "language": "python",
   "name": "python3"
  },
  "language_info": {
   "codemirror_mode": {
    "name": "ipython",
    "version": 3
   },
   "file_extension": ".py",
   "mimetype": "text/x-python",
   "name": "python",
   "nbconvert_exporter": "python",
   "pygments_lexer": "ipython3",
   "version": "3.6.12"
  }
 },
 "nbformat": 4,
 "nbformat_minor": 4
}
